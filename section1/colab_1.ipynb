{
  "cells": [
    {
      "cell_type": "markdown",
      "metadata": {},
      "source": [
        "# csv 파일 로드."
      ]
    },
    {
      "cell_type": "code",
      "execution_count": 3,
      "metadata": {
        "colab": {
          "base_uri": "https://localhost:8080/"
        },
        "id": "PpkwyCupU30A",
        "outputId": "09e35837-5015-4ea5-b2e1-26cc23a66dbb"
      },
      "outputs": [
        {
          "data": {
            "text/html": [
              "<div>\n",
              "<style scoped>\n",
              "    .dataframe tbody tr th:only-of-type {\n",
              "        vertical-align: middle;\n",
              "    }\n",
              "\n",
              "    .dataframe tbody tr th {\n",
              "        vertical-align: top;\n",
              "    }\n",
              "\n",
              "    .dataframe thead th {\n",
              "        text-align: right;\n",
              "    }\n",
              "</style>\n",
              "<table border=\"1\" class=\"dataframe\">\n",
              "  <thead>\n",
              "    <tr style=\"text-align: right;\">\n",
              "      <th></th>\n",
              "      <th>Name</th>\n",
              "      <th>Platform</th>\n",
              "      <th>Year</th>\n",
              "      <th>Genre</th>\n",
              "      <th>Publisher</th>\n",
              "      <th>NA_Sales</th>\n",
              "      <th>EU_Sales</th>\n",
              "      <th>JP_Sales</th>\n",
              "      <th>Other_Sales</th>\n",
              "    </tr>\n",
              "  </thead>\n",
              "  <tbody>\n",
              "    <tr>\n",
              "      <th>1</th>\n",
              "      <td>Candace Kane's Candy Factory</td>\n",
              "      <td>DS</td>\n",
              "      <td>2008.0</td>\n",
              "      <td>Action</td>\n",
              "      <td>Destineer</td>\n",
              "      <td>0.04</td>\n",
              "      <td>0</td>\n",
              "      <td>0</td>\n",
              "      <td>0</td>\n",
              "    </tr>\n",
              "    <tr>\n",
              "      <th>2</th>\n",
              "      <td>The Munchables</td>\n",
              "      <td>Wii</td>\n",
              "      <td>2009.0</td>\n",
              "      <td>Action</td>\n",
              "      <td>Namco Bandai Games</td>\n",
              "      <td>0.17</td>\n",
              "      <td>0</td>\n",
              "      <td>0</td>\n",
              "      <td>0.01</td>\n",
              "    </tr>\n",
              "    <tr>\n",
              "      <th>3</th>\n",
              "      <td>Otome wa Oanesama Boku ni Koi Shiteru Portable</td>\n",
              "      <td>PSP</td>\n",
              "      <td>2010.0</td>\n",
              "      <td>Adventure</td>\n",
              "      <td>Alchemist</td>\n",
              "      <td>0</td>\n",
              "      <td>0</td>\n",
              "      <td>0.02</td>\n",
              "      <td>0</td>\n",
              "    </tr>\n",
              "    <tr>\n",
              "      <th>4</th>\n",
              "      <td>Deal or No Deal: Special Edition</td>\n",
              "      <td>DS</td>\n",
              "      <td>2010.0</td>\n",
              "      <td>Misc</td>\n",
              "      <td>Zoo Games</td>\n",
              "      <td>0.04</td>\n",
              "      <td>0</td>\n",
              "      <td>0</td>\n",
              "      <td>0</td>\n",
              "    </tr>\n",
              "    <tr>\n",
              "      <th>5</th>\n",
              "      <td>Ben 10 Ultimate Alien: Cosmic Destruction</td>\n",
              "      <td>PS3</td>\n",
              "      <td>2010.0</td>\n",
              "      <td>Platform</td>\n",
              "      <td>D3Publisher</td>\n",
              "      <td>0.12</td>\n",
              "      <td>0.09</td>\n",
              "      <td>0</td>\n",
              "      <td>0.04</td>\n",
              "    </tr>\n",
              "    <tr>\n",
              "      <th>...</th>\n",
              "      <td>...</td>\n",
              "      <td>...</td>\n",
              "      <td>...</td>\n",
              "      <td>...</td>\n",
              "      <td>...</td>\n",
              "      <td>...</td>\n",
              "      <td>...</td>\n",
              "      <td>...</td>\n",
              "      <td>...</td>\n",
              "    </tr>\n",
              "    <tr>\n",
              "      <th>16594</th>\n",
              "      <td>Ice Age 2: The Meltdown</td>\n",
              "      <td>GC</td>\n",
              "      <td>2006.0</td>\n",
              "      <td>Platform</td>\n",
              "      <td>Vivendi Games</td>\n",
              "      <td>0.15</td>\n",
              "      <td>0.04</td>\n",
              "      <td>0</td>\n",
              "      <td>0.01</td>\n",
              "    </tr>\n",
              "    <tr>\n",
              "      <th>16595</th>\n",
              "      <td>Rainbow Islands: Revolution</td>\n",
              "      <td>PSP</td>\n",
              "      <td>2005.0</td>\n",
              "      <td>Action</td>\n",
              "      <td>Rising Star Games</td>\n",
              "      <td>0.01</td>\n",
              "      <td>0</td>\n",
              "      <td>0</td>\n",
              "      <td>0</td>\n",
              "    </tr>\n",
              "    <tr>\n",
              "      <th>16596</th>\n",
              "      <td>NBA 2K16</td>\n",
              "      <td>PS3</td>\n",
              "      <td>2015.0</td>\n",
              "      <td>Sports</td>\n",
              "      <td>Take-Two Interactive</td>\n",
              "      <td>0.44</td>\n",
              "      <td>0.19</td>\n",
              "      <td>0.03</td>\n",
              "      <td>0.13</td>\n",
              "    </tr>\n",
              "    <tr>\n",
              "      <th>16597</th>\n",
              "      <td>Toukiden: The Age of Demons</td>\n",
              "      <td>PSV</td>\n",
              "      <td>2013.0</td>\n",
              "      <td>Action</td>\n",
              "      <td>Tecmo Koei</td>\n",
              "      <td>0.05</td>\n",
              "      <td>0.05</td>\n",
              "      <td>0.25</td>\n",
              "      <td>0.03</td>\n",
              "    </tr>\n",
              "    <tr>\n",
              "      <th>16598</th>\n",
              "      <td>The King of Fighters '95</td>\n",
              "      <td>PS</td>\n",
              "      <td>1996.0</td>\n",
              "      <td>Fighting</td>\n",
              "      <td>Sony Computer Entertainment</td>\n",
              "      <td>0</td>\n",
              "      <td>0</td>\n",
              "      <td>0.16</td>\n",
              "      <td>0.01</td>\n",
              "    </tr>\n",
              "  </tbody>\n",
              "</table>\n",
              "<p>16598 rows × 9 columns</p>\n",
              "</div>"
            ],
            "text/plain": [
              "                                                 Name Platform    Year  \\\n",
              "1                        Candace Kane's Candy Factory       DS  2008.0   \n",
              "2                                      The Munchables      Wii  2009.0   \n",
              "3      Otome wa Oanesama Boku ni Koi Shiteru Portable      PSP  2010.0   \n",
              "4                    Deal or No Deal: Special Edition       DS  2010.0   \n",
              "5           Ben 10 Ultimate Alien: Cosmic Destruction      PS3  2010.0   \n",
              "...                                               ...      ...     ...   \n",
              "16594                         Ice Age 2: The Meltdown       GC  2006.0   \n",
              "16595                     Rainbow Islands: Revolution      PSP  2005.0   \n",
              "16596                                        NBA 2K16      PS3  2015.0   \n",
              "16597                     Toukiden: The Age of Demons      PSV  2013.0   \n",
              "16598                        The King of Fighters '95       PS  1996.0   \n",
              "\n",
              "           Genre                    Publisher NA_Sales EU_Sales JP_Sales  \\\n",
              "1         Action                    Destineer     0.04        0        0   \n",
              "2         Action           Namco Bandai Games     0.17        0        0   \n",
              "3      Adventure                    Alchemist        0        0     0.02   \n",
              "4           Misc                    Zoo Games     0.04        0        0   \n",
              "5       Platform                  D3Publisher     0.12     0.09        0   \n",
              "...          ...                          ...      ...      ...      ...   \n",
              "16594   Platform                Vivendi Games     0.15     0.04        0   \n",
              "16595     Action            Rising Star Games     0.01        0        0   \n",
              "16596     Sports         Take-Two Interactive     0.44     0.19     0.03   \n",
              "16597     Action                   Tecmo Koei     0.05     0.05     0.25   \n",
              "16598   Fighting  Sony Computer Entertainment        0        0     0.16   \n",
              "\n",
              "      Other_Sales  \n",
              "1               0  \n",
              "2            0.01  \n",
              "3               0  \n",
              "4               0  \n",
              "5            0.04  \n",
              "...           ...  \n",
              "16594        0.01  \n",
              "16595           0  \n",
              "16596        0.13  \n",
              "16597        0.03  \n",
              "16598        0.01  \n",
              "\n",
              "[16598 rows x 9 columns]"
            ]
          },
          "execution_count": 3,
          "metadata": {},
          "output_type": "execute_result"
        }
      ],
      "source": [
        "import pandas as pd\n",
        "import numpy as np\n",
        "import matplotlib as mpl\n",
        "import matplotlib.pyplot as plt\n",
        "import seaborn as sns\n",
        "\n",
        "\n",
        "df = pd.read_csv('vgames2.csv', index_col = 0)\n",
        "#df.drop('Unnamed: 0', axis=1,inplace=True) \n",
        "df\n"
      ]
    },
    {
      "cell_type": "markdown",
      "metadata": {},
      "source": [
        "## 데이터 정제 (EDA)\n"
      ]
    },
    {
      "cell_type": "code",
      "execution_count": 4,
      "metadata": {},
      "outputs": [
        {
          "name": "stdout",
          "output_type": "stream",
          "text": [
            "year error cnt = 371\n",
            "pop cnt = 16598\n",
            "0.02\n"
          ]
        },
        {
          "data": {
            "text/plain": [
              "array([[<AxesSubplot:title={'center':'Year'}>]], dtype=object)"
            ]
          },
          "execution_count": 4,
          "metadata": {},
          "output_type": "execute_result"
        },
        {
          "data": {
            "image/png": "[encoded data removed]",
            "text/plain": [
              "<Figure size 432x288 with 1 Axes>"
            ]
          },
          "metadata": {
            "needs_background": "light"
          },
          "output_type": "display_data"
        },
        {
          "data": {
            "image/png": "[encoded data removed]",
            "text/plain": [
              "<Figure size 432x288 with 1 Axes>"
            ]
          },
          "metadata": {
            "needs_background": "light"
          },
          "output_type": "display_data"
        }
      ],
      "source": [
        "#df['Year'].describe()\n",
        "df_year_error= df[ (df['Year'].isnull()) | (df['Year'] < 250)]\n",
        "\n",
        "print( 'year error cnt =',df_year_error.shape[0])\n",
        "print( 'pop cnt =',df.shape[0])\n",
        "\n",
        "print( round( df_year_error.shape[0] / df.shape[0] ,2))\n",
        "\n",
        "# 데이터를 살펴본 결과\n",
        "# 연도가 Nan or 0인 결측치, 그리고 250 이하의 이상치 데이터가 \n",
        "# 전체데이터의 0.02%라서 제거하기로 결정했습니다.\n",
        "\n",
        "# histogram 으로 250이하의 값도 이상치라고 판단. \n",
        "\n",
        "df.hist( 'Year')\n",
        "df_year_error.hist( 'Year') \n"
      ]
    },
    {
      "cell_type": "code",
      "execution_count": 5,
      "metadata": {},
      "outputs": [],
      "source": [
        "\n",
        "#장르나 퍼블리셔가 null 인 것들은. \n",
        "#같은 게임이름이 있다면 매칭시켜서 채워 넣을 수 있지 않을까?\n",
        "\n",
        "#일단 mission 먼저 클리어 하고 나서 확인해보자.\n",
        "\n",
        "#df[ df['Genre'].isnull() ]\n",
        "#df_Pub_nan = df[ df['Publisher'].isnull() ]\n",
        "#df_Pub_exist = df[ df['Publisher'].isnull()==False ]\n",
        "# a = df['Name'] is Pub_null_name['Name']\n",
        "#df_Pub_nan.head()\n",
        "#df_Pub_exist.head()\n",
        "\n",
        "\n",
        "# for i,v in enumerate(df_Pub_nan['Name'] ):\n",
        "#     print(f'{i},{v}')\n",
        "    # if v in df['Name']:\n",
        "    #     print(f'{v}',df['Publisher'])\n",
        "    \n",
        "#df1.info()\n",
        "#df1['Genre'].value_counts().sum()\n"
      ]
    },
    {
      "cell_type": "code",
      "execution_count": 6,
      "metadata": {},
      "outputs": [
        {
          "data": {
            "text/html": [
              "<div>\n",
              "<style scoped>\n",
              "    .dataframe tbody tr th:only-of-type {\n",
              "        vertical-align: middle;\n",
              "    }\n",
              "\n",
              "    .dataframe tbody tr th {\n",
              "        vertical-align: top;\n",
              "    }\n",
              "\n",
              "    .dataframe thead th {\n",
              "        text-align: right;\n",
              "    }\n",
              "</style>\n",
              "<table border=\"1\" class=\"dataframe\">\n",
              "  <thead>\n",
              "    <tr style=\"text-align: right;\">\n",
              "      <th></th>\n",
              "      <th>Name</th>\n",
              "      <th>Platform</th>\n",
              "      <th>Year</th>\n",
              "      <th>Genre</th>\n",
              "      <th>Publisher</th>\n",
              "      <th>NA_Sales</th>\n",
              "      <th>EU_Sales</th>\n",
              "      <th>JP_Sales</th>\n",
              "      <th>Other_Sales</th>\n",
              "    </tr>\n",
              "  </thead>\n",
              "  <tbody>\n",
              "    <tr>\n",
              "      <th>9185</th>\n",
              "      <td>Wii de Asobu: Metroid Prime</td>\n",
              "      <td>Wii</td>\n",
              "      <td>NaN</td>\n",
              "      <td>Shooter</td>\n",
              "      <td>Nintendo</td>\n",
              "      <td>0</td>\n",
              "      <td>0</td>\n",
              "      <td>0.02</td>\n",
              "      <td>0</td>\n",
              "    </tr>\n",
              "  </tbody>\n",
              "</table>\n",
              "</div>"
            ],
            "text/plain": [
              "                             Name Platform  Year    Genre Publisher NA_Sales  \\\n",
              "9185  Wii de Asobu: Metroid Prime      Wii   NaN  Shooter  Nintendo        0   \n",
              "\n",
              "     EU_Sales JP_Sales Other_Sales  \n",
              "9185        0     0.02           0  "
            ]
          },
          "execution_count": 6,
          "metadata": {},
          "output_type": "execute_result"
        }
      ],
      "source": [
        "df[df.duplicated()]\n",
        "#중복값도 찾았으나 Year이 0이므로 결측치 제거할때 함께 제거."
      ]
    },
    {
      "cell_type": "code",
      "execution_count": null,
      "metadata": {},
      "outputs": [],
      "source": [
        "\n",
        "df1 = df.copy()\n",
        "\n",
        "# 데이터 제거.\n",
        "del_con_byYear = df_year_error.index\n",
        "df1.drop(del_con_byYear, inplace=True)\n",
        "\n",
        "\n",
        "#장르고,퍼블리셔고 일단 nan 이면 제거. \n",
        "df1.dropna(inplace=True)\n",
        "df1.reset_index(drop=True,inplace = True)\n",
        "df1.info()\n"
      ]
    },
    {
      "cell_type": "code",
      "execution_count": 50,
      "metadata": {},
      "outputs": [
        {
          "name": "stdout",
          "output_type": "stream",
          "text": [
            "<class 'pandas.core.frame.DataFrame'>\n",
            "RangeIndex: 15382 entries, 0 to 15381\n",
            "Data columns (total 9 columns):\n",
            " #   Column       Non-Null Count  Dtype  \n",
            "---  ------       --------------  -----  \n",
            " 0   Name         15382 non-null  object \n",
            " 1   Platform     15382 non-null  object \n",
            " 2   Year         15382 non-null  float64\n",
            " 3   Genre        15382 non-null  object \n",
            " 4   Publisher    15382 non-null  object \n",
            " 5   NA_Sales     15382 non-null  float64\n",
            " 6   EU_Sales     15382 non-null  float64\n",
            " 7   JP_Sales     15382 non-null  float64\n",
            " 8   Other_Sales  15382 non-null  float64\n",
            "dtypes: float64(5), object(4)\n",
            "memory usage: 1.1+ MB\n"
          ]
        }
      ],
      "source": [
        "# M, K 로 들어있는 데이터 삭제. \n",
        "sales = ['NA_Sales','EU_Sales','JP_Sales','Other_Sales'] \n",
        "\n",
        "s1 = set([])\n",
        "for v in sales:\n",
        "    idx = df1[ (df1[v].str.count('M')>0) | (df1[v].str.count('K')>0) ].index\n",
        "    #print(idx)\n",
        "    s1.update(idx)\n",
        "#print(s1)\n",
        "#print( 'total=', len(s1) / df1.shape[0] )\n",
        "\n",
        "#일단 삭제..\n",
        "df1.drop( s1, inplace=True)\n",
        "df1.reset_index(drop=True,inplace = True)\n",
        "\n",
        "\n",
        "#숫자로 타입변경\n",
        "df1[sales] = df1[sales].astype(float)\n",
        "df1.info()\n"
      ]
    },
    {
      "cell_type": "code",
      "execution_count": null,
      "metadata": {},
      "outputs": [],
      "source": [
        "# na_sales M string이 붙은 feature를 찾는다. \n",
        "# split 하고 split 한 값[0]에 100만 을 곱해서 \n",
        "# 다시 넣는다.\n",
        "\n",
        "# df_m = df1[ df1['NA_Sales'].str.count('M')>0]['NA_Sales'].str.split('M')\n",
        "\n",
        "# df_m.shpae\n",
        "\n",
        "# con = df_sample[ df_sample['sales'].str.count('M')>0].index\n",
        "# df_sample.drop(con, inplace=True)\n",
        "\n",
        "# res = []\n",
        "# for v in df_m:\n",
        "#     res.append ( float(v[0]) * 1000000 )\n",
        "\n",
        "# print(res)\n",
        "\n",
        "#a[435]#a[0]\n",
        "#df1.info()\n",
        "\n",
        "\n",
        "# 435      [0.58, ] -->   580,000\n",
        "# 564      [5.55, ] --> 5,550,000"
      ]
    },
    {
      "cell_type": "code",
      "execution_count": null,
      "metadata": {},
      "outputs": [],
      "source": []
    },
    {
      "cell_type": "code",
      "execution_count": 106,
      "metadata": {},
      "outputs": [
        {
          "data": {
            "text/html": [
              "<div>\n",
              "<style scoped>\n",
              "    .dataframe tbody tr th:only-of-type {\n",
              "        vertical-align: middle;\n",
              "    }\n",
              "\n",
              "    .dataframe tbody tr th {\n",
              "        vertical-align: top;\n",
              "    }\n",
              "\n",
              "    .dataframe thead th {\n",
              "        text-align: right;\n",
              "    }\n",
              "</style>\n",
              "<table border=\"1\" class=\"dataframe\">\n",
              "  <thead>\n",
              "    <tr style=\"text-align: right;\">\n",
              "      <th></th>\n",
              "      <th>NA_Sales</th>\n",
              "      <th>EU_Sales</th>\n",
              "      <th>JP_Sales</th>\n",
              "      <th>Other_Sales</th>\n",
              "      <th>Total_Sales</th>\n",
              "    </tr>\n",
              "    <tr>\n",
              "      <th>Genre</th>\n",
              "      <th></th>\n",
              "      <th></th>\n",
              "      <th></th>\n",
              "      <th></th>\n",
              "      <th></th>\n",
              "    </tr>\n",
              "  </thead>\n",
              "  <tbody>\n",
              "    <tr>\n",
              "      <th>Action</th>\n",
              "      <td>801.89</td>\n",
              "      <td>486.60</td>\n",
              "      <td>149.85</td>\n",
              "      <td>176.14</td>\n",
              "      <td>1614.48</td>\n",
              "    </tr>\n",
              "    <tr>\n",
              "      <th>Sports</th>\n",
              "      <td>633.87</td>\n",
              "      <td>349.85</td>\n",
              "      <td>126.65</td>\n",
              "      <td>126.13</td>\n",
              "      <td>1236.50</td>\n",
              "    </tr>\n",
              "    <tr>\n",
              "      <th>Shooter</th>\n",
              "      <td>544.63</td>\n",
              "      <td>293.38</td>\n",
              "      <td>36.53</td>\n",
              "      <td>96.68</td>\n",
              "      <td>971.22</td>\n",
              "    </tr>\n",
              "    <tr>\n",
              "      <th>Role-Playing</th>\n",
              "      <td>283.86</td>\n",
              "      <td>160.10</td>\n",
              "      <td>314.15</td>\n",
              "      <td>50.86</td>\n",
              "      <td>808.97</td>\n",
              "    </tr>\n",
              "    <tr>\n",
              "      <th>Platform</th>\n",
              "      <td>410.96</td>\n",
              "      <td>184.11</td>\n",
              "      <td>121.88</td>\n",
              "      <td>47.88</td>\n",
              "      <td>764.83</td>\n",
              "    </tr>\n",
              "    <tr>\n",
              "      <th>Misc</th>\n",
              "      <td>380.36</td>\n",
              "      <td>200.14</td>\n",
              "      <td>99.47</td>\n",
              "      <td>69.97</td>\n",
              "      <td>749.94</td>\n",
              "    </tr>\n",
              "    <tr>\n",
              "      <th>Racing</th>\n",
              "      <td>334.14</td>\n",
              "      <td>222.66</td>\n",
              "      <td>50.60</td>\n",
              "      <td>73.48</td>\n",
              "      <td>680.88</td>\n",
              "    </tr>\n",
              "    <tr>\n",
              "      <th>Fighting</th>\n",
              "      <td>210.51</td>\n",
              "      <td>94.18</td>\n",
              "      <td>82.58</td>\n",
              "      <td>34.33</td>\n",
              "      <td>421.60</td>\n",
              "    </tr>\n",
              "    <tr>\n",
              "      <th>Simulation</th>\n",
              "      <td>173.64</td>\n",
              "      <td>106.97</td>\n",
              "      <td>61.51</td>\n",
              "      <td>29.49</td>\n",
              "      <td>371.61</td>\n",
              "    </tr>\n",
              "    <tr>\n",
              "      <th>Puzzle</th>\n",
              "      <td>118.40</td>\n",
              "      <td>49.95</td>\n",
              "      <td>56.16</td>\n",
              "      <td>12.13</td>\n",
              "      <td>236.64</td>\n",
              "    </tr>\n",
              "    <tr>\n",
              "      <th>Adventure</th>\n",
              "      <td>97.29</td>\n",
              "      <td>60.65</td>\n",
              "      <td>49.20</td>\n",
              "      <td>16.06</td>\n",
              "      <td>223.20</td>\n",
              "    </tr>\n",
              "    <tr>\n",
              "      <th>Strategy</th>\n",
              "      <td>65.67</td>\n",
              "      <td>43.11</td>\n",
              "      <td>43.56</td>\n",
              "      <td>10.71</td>\n",
              "      <td>163.05</td>\n",
              "    </tr>\n",
              "  </tbody>\n",
              "</table>\n",
              "</div>"
            ],
            "text/plain": [
              "              NA_Sales  EU_Sales  JP_Sales  Other_Sales  Total_Sales\n",
              "Genre                                                               \n",
              "Action          801.89    486.60    149.85       176.14      1614.48\n",
              "Sports          633.87    349.85    126.65       126.13      1236.50\n",
              "Shooter         544.63    293.38     36.53        96.68       971.22\n",
              "Role-Playing    283.86    160.10    314.15        50.86       808.97\n",
              "Platform        410.96    184.11    121.88        47.88       764.83\n",
              "Misc            380.36    200.14     99.47        69.97       749.94\n",
              "Racing          334.14    222.66     50.60        73.48       680.88\n",
              "Fighting        210.51     94.18     82.58        34.33       421.60\n",
              "Simulation      173.64    106.97     61.51        29.49       371.61\n",
              "Puzzle          118.40     49.95     56.16        12.13       236.64\n",
              "Adventure        97.29     60.65     49.20        16.06       223.20\n",
              "Strategy         65.67     43.11     43.56        10.71       163.05"
            ]
          },
          "execution_count": 106,
          "metadata": {},
          "output_type": "execute_result"
        }
      ],
      "source": [
        "#지역에 따라서 선호하는 게임 장르가 다를까?\n",
        "#선호하는 게임은 많이 팔린 게임이라고 가정.\n",
        "#지역별 많이 팔린 장르별 내림차순.\n",
        "\n",
        "# - [x]  지역으로 그룹화\n",
        "# - [x]  많이 팔린 게임 순 정렬\n",
        "# - [ ]  어느지역에서 어떤 장르가 많이 팔렸는지 시각화\n",
        "# - [ ]  scatter plot 하면 될거 같은데.\n",
        "\n",
        "df1['Total_Sales'] = df1['NA_Sales'] + df1['EU_Sales'] + df1['JP_Sales'] + df1['Other_Sales']\n",
        "\n",
        "salesAll =[x for x in sales]\n",
        "salesAll.append('Total_Sales')\n",
        "salesAll\n",
        "\n",
        "\n",
        "df_Genre = df1.groupby('Genre')[salesAll].sum()\n",
        "df_Genre.sort_values(by='Total_Sales',ascending=False ,inplace=True)\n",
        "df_Genre#['Total_Sales']\n",
        "\n"
      ]
    },
    {
      "cell_type": "code",
      "execution_count": 115,
      "metadata": {},
      "outputs": [
        {
          "data": {
            "image/png": "[encoded data removed]",
            "text/plain": [
              "<Figure size 432x288 with 4 Axes>"
            ]
          },
          "metadata": {},
          "output_type": "display_data"
        }
      ],
      "source": [
        "# ratio = df1['NA_Sales'].value_counts(normalize=True) # normalize는 비율을 나타내 주는 파라미터 \n",
        "# ratio = round(ratio,2)\n",
        "#print( ratio.max)\n",
        "# ratio = df1['NA_Sales']\n",
        "#ratio.hist( )\n",
        "# print(ratio)\n",
        "\n",
        "\n",
        "for i,v in enumerate(sales):\n",
        "    plt.subplot(1, 4, i+1)\n",
        "    plt.pie( df_Genre[v].head() , autopct='%.0f%%',colors=['lightgrey', 'skyblue'])\n",
        "    plt.title(v);\n",
        "\n",
        "#df1.head()\n",
        "# sns.countplot(data=df_Genre['Total_Sales'], color='orange')\n",
        "# plt.show();\n",
        "\n",
        "# \tNA_Sales\tEU_Sales\tJP_Sales\tOther_Sales\tTotal_Sales\n",
        "# Genre\t\t\t\t\t\n",
        "# Action\t801.89\t486.60\t149.85\t176.14\t1614.48\n",
        "# Adventure\t97.29\t60.65\t49.20\t16.06\t223.20\n",
        "\n",
        "# print('-'*100)\n",
        "#NA_Sales\n",
        "# print('Action/Total =' , round(801.89/1614.48,2) )\n",
        "# print('Adventure/Total =' , round(97.29/223.20,2) )\n",
        "\n",
        "\n",
        "\n"
      ]
    },
    {
      "cell_type": "code",
      "execution_count": 73,
      "metadata": {},
      "outputs": [
        {
          "data": {
            "image/png": "[encoded data removed]",
            "text/plain": [
              "<Figure size 432x288 with 1 Axes>"
            ]
          },
          "metadata": {
            "needs_background": "light"
          },
          "output_type": "display_data"
        }
      ],
      "source": [
        "df_Genre['NA_Sales']\n",
        "df_Genre['NA_Sales'].plot.bar(color=['g', 'b'], rot=0);"
      ]
    },
    {
      "cell_type": "code",
      "execution_count": null,
      "metadata": {},
      "outputs": [],
      "source": [
        "df_genre['Total_Sales'] = \n",
        "\n",
        "# Name\tPlatform\tYear\tGenre\tPublisher\tNA_Sales\tEU_Sales\tJP_Sales\tOther_Sales\n",
        "# 9185\tWii de Asobu: Metroid Prime\tWii\tNaN\tShooter\tNintendo\t0\t0\t0.02\t0\n"
      ]
    },
    {
      "cell_type": "code",
      "execution_count": 11,
      "metadata": {},
      "outputs": [],
      "source": [
        "#연도별 게임의 트렌드가 있을까 ? \n"
      ]
    },
    {
      "cell_type": "code",
      "execution_count": 12,
      "metadata": {},
      "outputs": [],
      "source": [
        "\n",
        "#출고량이 높은 게임에 대한 분석 및 시각화 프로세스\n",
        "\n"
      ]
    },
    {
      "cell_type": "markdown",
      "metadata": {
        "id": "XNlhFP5xU30B"
      },
      "source": [
        "## 정리\n",
        "> #지역에 따라서 선호하는 게임 장르가 다를까? \n",
        " - yes\n",
        "\n",
        "> #연도별 게임의 트렌드가 있을까 ?\n",
        " - sure\n",
        "\n",
        "> #출고량이 높은 게임에 대한 분석 및 시각화 프로세스\n",
        " - 작업중."
      ]
    },
    {
      "cell_type": "code",
      "execution_count": null,
      "metadata": {
        "id": "hQ74W_9PCfU7"
      },
      "outputs": [],
      "source": []
    },
    {
      "cell_type": "markdown",
      "metadata": {
        "id": "5-64XNORDTOn"
      },
      "source": [
        "### 🔥 FrameWork\n",
        "\n",
        "'sample'"
      ]
    },
    {
      "cell_type": "markdown",
      "metadata": {
        "id": "5-64XNORDTOn"
      },
      "source": [
        "### 🔥 FrameWork\n",
        "\n",
        "'sample'"
      ]
    },
    {
      "cell_type": "code",
      "execution_count": 13,
      "metadata": {
        "id": "ij7rPUk0DffG"
      },
      "outputs": [],
      "source": [
        "# 이 곳에 답안을 작성하시기 바랍니다."
      ]
    }
  ],
  "metadata": {
    "colab": {
      "collapsed_sections": [],
      "name": "n134a_Gradient_Descent.ipynb",
      "provenance": []
    },
    "kernelspec": {
      "display_name": "Python 3.10.4 64-bit",
      "language": "python",
      "name": "python3"
    },
    "language_info": {
      "codemirror_mode": {
        "name": "ipython",
        "version": 3
      },
      "file_extension": ".py",
      "mimetype": "text/x-python",
      "name": "python",
      "nbconvert_exporter": "python",
      "pygments_lexer": "ipython3",
      "version": "3.10.4"
    },
    "vscode": {
      "interpreter": {
        "hash": "9cf407f93b9448e55a251fe1728677d7802378fec2e0a9c11fa577a9b0a35ec6"
      }
    }
  },
  "nbformat": 4,
  "nbformat_minor": 0
}
